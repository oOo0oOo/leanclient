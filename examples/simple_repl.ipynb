{
 "cells": [
  {
   "cell_type": "markdown",
   "metadata": {
    "id": "IWlQQcC-rvBs"
   },
   "source": [
    "### A simple REPL\n",
    "\n",
    "This is an example for a simple REPL:\n",
    "1) Run a command (add text to a file)\n",
    "2) Receive current diagnostics (whole file), goal and term goal"
   ]
  },
  {
   "cell_type": "code",
   "execution_count": 1,
   "metadata": {},
   "outputs": [],
   "source": [
    "# Setup a new lean project in the following folder:\n",
    "# Using the instructions from mathlib_warning_analysis.ipynb\n",
    "LEAN_FOLDER = \"LeanProject\""
   ]
  },
  {
   "cell_type": "code",
   "execution_count": null,
   "metadata": {
    "colab": {
     "base_uri": "https://localhost:8080/"
    },
    "collapsed": true,
    "id": "LzCRGnimkjiO",
    "outputId": "57b6c525-4e29-46f0-c19d-3ca8ee3c9b1f"
   },
   "outputs": [],
   "source": [
    "# Install leanclient\n",
    "!pip install --upgrade leanclient"
   ]
  },
  {
   "cell_type": "code",
   "execution_count": 2,
   "metadata": {},
   "outputs": [],
   "source": [
    "import leanclient as lc\n",
    "\n",
    "\n",
    "class REPL:\n",
    "    \"\"\"Simple file-based REPL for lean.\n",
    "\n",
    "    For serious tasks extend this or consider using proper REPLs like:\n",
    "    - LeanDojo\n",
    "    - Pantograph\n",
    "    \"\"\"\n",
    "\n",
    "    def __init__(self, lean_folder):\n",
    "        # Write a temporary file as the basis for the REPL\n",
    "        self.temp_file = lean_folder + \"/temp_repl.lean\"\n",
    "        with open(lean_folder + \"/\" + self.temp_file, \"w\") as f:\n",
    "            f.write(\"\\n\")\n",
    "\n",
    "        self.lsp_client = lc.LeanLSPClient(lean_folder)\n",
    "        self.client = self.lsp_client.create_file_client(self.temp_file)\n",
    "        self.client.open_file()\n",
    "\n",
    "        self.current_coords = (0, 0)\n",
    "\n",
    "    def run_command(self, command: str) -> list:\n",
    "        \"\"\"Run a command in the REPL (add to the file).\n",
    "\n",
    "        Args:\n",
    "            command (str): The command to run.\n",
    "\n",
    "        Returns:\n",
    "            list: A list of diagnostics, goal, and term_goal after running the command.\n",
    "        \"\"\"\n",
    "        self.client.update_file(\n",
    "            [\n",
    "                lc.DocumentContentChange(\n",
    "                    command, self.current_coords, self.current_coords\n",
    "                )\n",
    "            ]\n",
    "        )\n",
    "        diagnostics = self.client.get_diagnostics()\n",
    "\n",
    "        # Update the current coordinates\n",
    "        split_command = command.split(\"\\n\")\n",
    "        num_lines = len(split_command)\n",
    "        num_chars = (\n",
    "            len(split_command[-1])\n",
    "            if num_lines > 1\n",
    "            else len(command) + self.current_coords[1]\n",
    "        )\n",
    "        self.current_coords = (self.current_coords[0] + num_lines - 1, num_chars)\n",
    "\n",
    "        goal = self.client.get_goal(*self.current_coords)\n",
    "        term_goal = self.client.get_term_goal(*self.current_coords)\n",
    "\n",
    "        goal = goal[\"goals\"] if goal is not None else None\n",
    "        term_goal = term_goal[\"goal\"] if term_goal is not None else None\n",
    "\n",
    "        return [diagnostics, goal, term_goal]"
   ]
  },
  {
   "cell_type": "code",
   "execution_count": 3,
   "metadata": {},
   "outputs": [
    {
     "name": "stdout",
     "output_type": "stream",
     "text": [
      "Split LeanProject/.lake/packages/mathlib/Mathlib/FieldTheory/AbelRuffini.lean into 23 commands.\n"
     ]
    }
   ],
   "source": [
    "import random\n",
    "import time\n",
    "\n",
    "# We test the REPL by running sections of a valid mathlib file\n",
    "path = f\"{LEAN_FOLDER}/.lake/packages/mathlib/Mathlib/FieldTheory/AbelRuffini.lean\"\n",
    "\n",
    "with open(path, \"r\") as f:\n",
    "    content = f.read()\n",
    "\n",
    "commands = []\n",
    "while content:\n",
    "    num_chars = random.randint(10, 1500)\n",
    "    command, content = content[:num_chars], content[num_chars:]\n",
    "    commands.append(command)\n",
    "\n",
    "print(f\"Split {path} into {len(commands)} commands.\")"
   ]
  },
  {
   "cell_type": "code",
   "execution_count": 4,
   "metadata": {},
   "outputs": [
    {
     "ename": "RuntimeError",
     "evalue": "This event loop is already running",
     "output_type": "error",
     "traceback": [
      "\u001b[0;31m---------------------------------------------------------------------------\u001b[0m",
      "\u001b[0;31mRuntimeError\u001b[0m                              Traceback (most recent call last)",
      "Cell \u001b[0;32mIn[4], line 2\u001b[0m\n\u001b[1;32m      1\u001b[0m \u001b[38;5;66;03m# Run all commands\u001b[39;00m\n\u001b[0;32m----> 2\u001b[0m repl \u001b[38;5;241m=\u001b[39m \u001b[43mREPL\u001b[49m\u001b[43m(\u001b[49m\u001b[43mLEAN_FOLDER\u001b[49m\u001b[43m)\u001b[49m\n\u001b[1;32m      4\u001b[0m t0 \u001b[38;5;241m=\u001b[39m time\u001b[38;5;241m.\u001b[39mtime()\n\u001b[1;32m      5\u001b[0m intermediate_goals \u001b[38;5;241m=\u001b[39m []\n",
      "Cell \u001b[0;32mIn[2], line 18\u001b[0m, in \u001b[0;36mREPL.__init__\u001b[0;34m(self, lean_folder)\u001b[0m\n\u001b[1;32m     15\u001b[0m \u001b[38;5;28;01mwith\u001b[39;00m \u001b[38;5;28mopen\u001b[39m(lean_folder \u001b[38;5;241m+\u001b[39m \u001b[38;5;124m\"\u001b[39m\u001b[38;5;124m/\u001b[39m\u001b[38;5;124m\"\u001b[39m \u001b[38;5;241m+\u001b[39m \u001b[38;5;28mself\u001b[39m\u001b[38;5;241m.\u001b[39mtemp_file, \u001b[38;5;124m\"\u001b[39m\u001b[38;5;124mw\u001b[39m\u001b[38;5;124m\"\u001b[39m) \u001b[38;5;28;01mas\u001b[39;00m f:\n\u001b[1;32m     16\u001b[0m     f\u001b[38;5;241m.\u001b[39mwrite(\u001b[38;5;124m\"\u001b[39m\u001b[38;5;130;01m\\n\u001b[39;00m\u001b[38;5;124m\"\u001b[39m)\n\u001b[0;32m---> 18\u001b[0m \u001b[38;5;28mself\u001b[39m\u001b[38;5;241m.\u001b[39mlsp_client \u001b[38;5;241m=\u001b[39m \u001b[43mlc\u001b[49m\u001b[38;5;241;43m.\u001b[39;49m\u001b[43mLeanLSPClient\u001b[49m\u001b[43m(\u001b[49m\u001b[43mlean_folder\u001b[49m\u001b[43m)\u001b[49m\n\u001b[1;32m     19\u001b[0m \u001b[38;5;28mself\u001b[39m\u001b[38;5;241m.\u001b[39mclient \u001b[38;5;241m=\u001b[39m \u001b[38;5;28mself\u001b[39m\u001b[38;5;241m.\u001b[39mlsp_client\u001b[38;5;241m.\u001b[39mcreate_file_client(\u001b[38;5;28mself\u001b[39m\u001b[38;5;241m.\u001b[39mtemp_file)\n\u001b[1;32m     20\u001b[0m \u001b[38;5;28mself\u001b[39m\u001b[38;5;241m.\u001b[39mclient\u001b[38;5;241m.\u001b[39mopen_file()\n",
      "File \u001b[0;32m~/Code/leanclient/leanclient/client.py:37\u001b[0m, in \u001b[0;36mLeanLSPClient.__init__\u001b[0;34m(self, project_path, initial_build, max_opened_files)\u001b[0m\n\u001b[1;32m     35\u001b[0m \u001b[38;5;28mself\u001b[39m\u001b[38;5;241m.\u001b[39mclient \u001b[38;5;241m=\u001b[39m AsyncLeanLSPClient(project_path, initial_build, max_opened_files)\n\u001b[1;32m     36\u001b[0m \u001b[38;5;28mself\u001b[39m\u001b[38;5;241m.\u001b[39mloop \u001b[38;5;241m=\u001b[39m \u001b[38;5;28mself\u001b[39m\u001b[38;5;241m.\u001b[39mclient\u001b[38;5;241m.\u001b[39mloop\n\u001b[0;32m---> 37\u001b[0m \u001b[38;5;28;43mself\u001b[39;49m\u001b[38;5;241;43m.\u001b[39;49m\u001b[43m_call_async\u001b[49m\u001b[43m(\u001b[49m\u001b[38;5;28;43mself\u001b[39;49m\u001b[38;5;241;43m.\u001b[39;49m\u001b[43mclient\u001b[49m\u001b[38;5;241;43m.\u001b[39;49m\u001b[43mstart\u001b[49m\u001b[43m)\u001b[49m\n",
      "File \u001b[0;32m~/Code/leanclient/leanclient/client.py:41\u001b[0m, in \u001b[0;36mLeanLSPClient._call_async\u001b[0;34m(self, func, *args, **kwargs)\u001b[0m\n\u001b[1;32m     39\u001b[0m \u001b[38;5;28;01mdef\u001b[39;00m\u001b[38;5;250m \u001b[39m\u001b[38;5;21m_call_async\u001b[39m(\u001b[38;5;28mself\u001b[39m, func, \u001b[38;5;241m*\u001b[39margs, \u001b[38;5;241m*\u001b[39m\u001b[38;5;241m*\u001b[39mkwargs):\n\u001b[1;32m     40\u001b[0m \u001b[38;5;250m    \u001b[39m\u001b[38;5;124;03m\"\"\"Helper: Call an async function using the event loop.\"\"\"\u001b[39;00m\n\u001b[0;32m---> 41\u001b[0m     \u001b[38;5;28;01mreturn\u001b[39;00m \u001b[38;5;28;43mself\u001b[39;49m\u001b[38;5;241;43m.\u001b[39;49m\u001b[43mloop\u001b[49m\u001b[38;5;241;43m.\u001b[39;49m\u001b[43mrun_until_complete\u001b[49m\u001b[43m(\u001b[49m\u001b[43mfunc\u001b[49m\u001b[43m(\u001b[49m\u001b[38;5;241;43m*\u001b[39;49m\u001b[43margs\u001b[49m\u001b[43m,\u001b[49m\u001b[43m \u001b[49m\u001b[38;5;241;43m*\u001b[39;49m\u001b[38;5;241;43m*\u001b[39;49m\u001b[43mkwargs\u001b[49m\u001b[43m)\u001b[49m\u001b[43m)\u001b[49m\n",
      "File \u001b[0;32m/usr/lib/python3.12/asyncio/base_events.py:663\u001b[0m, in \u001b[0;36mBaseEventLoop.run_until_complete\u001b[0;34m(self, future)\u001b[0m\n\u001b[1;32m    652\u001b[0m \u001b[38;5;250m\u001b[39m\u001b[38;5;124;03m\"\"\"Run until the Future is done.\u001b[39;00m\n\u001b[1;32m    653\u001b[0m \n\u001b[1;32m    654\u001b[0m \u001b[38;5;124;03mIf the argument is a coroutine, it is wrapped in a Task.\u001b[39;00m\n\u001b[0;32m   (...)\u001b[0m\n\u001b[1;32m    660\u001b[0m \u001b[38;5;124;03mReturn the Future's result, or raise its exception.\u001b[39;00m\n\u001b[1;32m    661\u001b[0m \u001b[38;5;124;03m\"\"\"\u001b[39;00m\n\u001b[1;32m    662\u001b[0m \u001b[38;5;28mself\u001b[39m\u001b[38;5;241m.\u001b[39m_check_closed()\n\u001b[0;32m--> 663\u001b[0m \u001b[38;5;28;43mself\u001b[39;49m\u001b[38;5;241;43m.\u001b[39;49m\u001b[43m_check_running\u001b[49m\u001b[43m(\u001b[49m\u001b[43m)\u001b[49m\n\u001b[1;32m    665\u001b[0m new_task \u001b[38;5;241m=\u001b[39m \u001b[38;5;129;01mnot\u001b[39;00m futures\u001b[38;5;241m.\u001b[39misfuture(future)\n\u001b[1;32m    666\u001b[0m future \u001b[38;5;241m=\u001b[39m tasks\u001b[38;5;241m.\u001b[39mensure_future(future, loop\u001b[38;5;241m=\u001b[39m\u001b[38;5;28mself\u001b[39m)\n",
      "File \u001b[0;32m/usr/lib/python3.12/asyncio/base_events.py:622\u001b[0m, in \u001b[0;36mBaseEventLoop._check_running\u001b[0;34m(self)\u001b[0m\n\u001b[1;32m    620\u001b[0m \u001b[38;5;28;01mdef\u001b[39;00m\u001b[38;5;250m \u001b[39m\u001b[38;5;21m_check_running\u001b[39m(\u001b[38;5;28mself\u001b[39m):\n\u001b[1;32m    621\u001b[0m     \u001b[38;5;28;01mif\u001b[39;00m \u001b[38;5;28mself\u001b[39m\u001b[38;5;241m.\u001b[39mis_running():\n\u001b[0;32m--> 622\u001b[0m         \u001b[38;5;28;01mraise\u001b[39;00m \u001b[38;5;167;01mRuntimeError\u001b[39;00m(\u001b[38;5;124m'\u001b[39m\u001b[38;5;124mThis event loop is already running\u001b[39m\u001b[38;5;124m'\u001b[39m)\n\u001b[1;32m    623\u001b[0m     \u001b[38;5;28;01mif\u001b[39;00m events\u001b[38;5;241m.\u001b[39m_get_running_loop() \u001b[38;5;129;01mis\u001b[39;00m \u001b[38;5;129;01mnot\u001b[39;00m \u001b[38;5;28;01mNone\u001b[39;00m:\n\u001b[1;32m    624\u001b[0m         \u001b[38;5;28;01mraise\u001b[39;00m \u001b[38;5;167;01mRuntimeError\u001b[39;00m(\n\u001b[1;32m    625\u001b[0m             \u001b[38;5;124m'\u001b[39m\u001b[38;5;124mCannot run the event loop while another loop is running\u001b[39m\u001b[38;5;124m'\u001b[39m)\n",
      "\u001b[0;31mRuntimeError\u001b[0m: This event loop is already running"
     ]
    }
   ],
   "source": [
    "# Run all commands\n",
    "repl = REPL(LEAN_FOLDER)\n",
    "\n",
    "t0 = time.time()\n",
    "intermediate_goals = []\n",
    "for i, command in enumerate(commands):\n",
    "    diag, goal, term_goal = repl.run_command(command)\n",
    "    intermediate_goals.append(goal)\n",
    "\n",
    "print(\n",
    "    f\"Ran {len(commands)} commands: {len(commands) / (time.time() - t0):.2f} commands per second.\"\n",
    ")\n",
    "print(\"Final diagnostics after running all commands:\", diag)\n",
    "print(\"Intermediate goals:\")\n",
    "for i, goal in enumerate(intermediate_goals):\n",
    "    print(f\"Command {i + 1}: {goal}\")"
   ]
  }
 ],
 "metadata": {
  "colab": {
   "provenance": []
  },
  "kernelspec": {
   "display_name": "leanclient-_pDCu_k2-py3.12",
   "language": "python",
   "name": "python3"
  },
  "language_info": {
   "codemirror_mode": {
    "name": "ipython",
    "version": 3
   },
   "file_extension": ".py",
   "mimetype": "text/x-python",
   "name": "python",
   "nbconvert_exporter": "python",
   "pygments_lexer": "ipython3",
   "version": "3.12.3"
  }
 },
 "nbformat": 4,
 "nbformat_minor": 0
}
