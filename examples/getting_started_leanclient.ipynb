{
 "cells": [
  {
   "cell_type": "markdown",
   "metadata": {
    "id": "IWlQQcC-rvBs"
   },
   "source": [
    "### Getting started with leanclient\n",
    "\n",
    "leanclient allows for easy interaction with the [lean4 theorem prover](https://github.com/leanprover/lean4) using the [Language Server Protocol](https://microsoft.github.io/language-server-protocol/specifications/lsp/3.17/specification/).\n",
    "\n",
    "This notebook shows a minimal example for how to setup and use leanclient.\n",
    "\n",
    "- leanclient does **not create/manage lean projects**. You should create your own project, e.g. in vscode, and then point leanclient at the root folder (where lakefile.toml is located). See below for an example setup.\n",
    "\n",
    "- Running this on Google Colab is **slow for larger projects** (e.g. including mathlib). In general, performance is reduced in notebooks.\n",
    "\n",
    "Check out the [documentation](https://leanclient.readthedocs.io/en/latest/) and the [github repository](https://github.com/oOo0oOo/leanclient) for more information."
   ]
  },
  {
   "cell_type": "code",
   "execution_count": 1,
   "metadata": {
    "id": "rBHyfKpYsipG"
   },
   "outputs": [],
   "source": [
    "PROJECT_NAME = \"LeanProject\"\n",
    "PROJECT_PATH = PROJECT_NAME + \"/\"\n",
    "LEAN_VERSION = \"stable\""
   ]
  },
  {
   "cell_type": "code",
   "execution_count": null,
   "metadata": {
    "colab": {
     "base_uri": "https://localhost:8080/"
    },
    "id": "4oYR0BAPWBs1",
    "outputId": "34a5ed66-7cf5-4681-e7ca-5aa6e855022f"
   },
   "outputs": [],
   "source": [
    "# Setup elan, lean, and a new project\n",
    "!curl https://raw.githubusercontent.com/leanprover/elan/master/elan-init.sh -sSf | sh -s -- -y\n",
    "\n",
    "import os\n",
    "\n",
    "os.environ[\"PATH\"] = os.path.expanduser(\"~/.elan/bin\") + \":\" + os.environ[\"PATH\"]\n",
    "\n",
    "!elan toolchain install leanprover/lean4:{LEAN_VERSION}\n",
    "!elan default leanprover/lean4:{LEAN_VERSION}\n",
    "\n",
    "!lake new {PROJECT_NAME}\n",
    "%cd {PROJECT_NAME}\n",
    "!lake build\n",
    "%cd .."
   ]
  },
  {
   "cell_type": "code",
   "execution_count": null,
   "metadata": {
    "colab": {
     "base_uri": "https://localhost:8080/"
    },
    "id": "LzCRGnimkjiO",
    "outputId": "57b6c525-4e29-46f0-c19d-3ca8ee3c9b1f"
   },
   "outputs": [],
   "source": [
    "# Install leanclient\n",
    "!pip install leanclient"
   ]
  },
  {
   "cell_type": "code",
   "execution_count": 4,
   "metadata": {
    "colab": {
     "base_uri": "https://localhost:8080/"
    },
    "id": "PXaxbpHkGbfZ",
    "outputId": "87c18901-bb47-4dcb-dc8e-8f789e52089d"
   },
   "outputs": [
    {
     "name": "stdout",
     "output_type": "stream",
     "text": [
      "Symbols:\n",
      "[{'kind': 'method',\n",
      "  'name': 'hello',\n",
      "  'range': {'end': {'character': 20, 'line': 0},\n",
      "            'start': {'character': 0, 'line': 0}},\n",
      "  'selectionRange': {'end': {'character': 9, 'line': 0},\n",
      "                     'start': {'character': 4, 'line': 0}}}]\n",
      "\n",
      "Semantic tokens:\n",
      "[[0, 0, 3, 'keyword']]\n",
      "\n",
      "Term goal:\n",
      "{'goal': '⊢ String',\n",
      " 'range': {'end': {'character': 20, 'line': 0},\n",
      "           'start': {'character': 13, 'line': 0}}}\n"
     ]
    }
   ],
   "source": [
    "from pprint import pprint\n",
    "import leanclient as lc\n",
    "\n",
    "# Create client and point it to the root folder of the project.\n",
    "# This is where lakefile.toml is located.\n",
    "client = lc.LeanLSPClient(PROJECT_PATH)\n",
    "\n",
    "# Use a SingleFileClient for simple interactions with a file.\n",
    "# This file is a very simple template created during project init.\n",
    "sfc = client.create_file_client(\"LeanProject/Basic.lean\")\n",
    "\n",
    "# Query the language server!\n",
    "symbols = sfc.get_document_symbols()\n",
    "tokens = sfc.get_semantic_tokens()\n",
    "term_goal = sfc.get_term_goal(0, 20)\n",
    "\n",
    "print(\"Symbols:\")\n",
    "pprint(symbols)\n",
    "\n",
    "print(\"\\nSemantic tokens:\")\n",
    "pprint(tokens)\n",
    "\n",
    "print(\"\\nTerm goal:\")\n",
    "pprint(term_goal)"
   ]
  },
  {
   "cell_type": "code",
   "execution_count": 5,
   "metadata": {
    "colab": {
     "base_uri": "https://localhost:8080/"
    },
    "id": "GRgRpPy401Si",
    "outputId": "88133fbf-5fbc-43cc-bf6a-60c1870bd11f"
   },
   "outputs": [
    {
     "name": "stdout",
     "output_type": "stream",
     "text": [
      "Current goal:\n",
      "n : Nat\n",
      "⊢ n = n\n",
      "\n",
      "No diagnostics after completing proof:\n",
      "[]\n",
      "\n",
      "More interesting goal (commutativity of addition):\n",
      "a b : Nat\n",
      "⊢ a + b = b + a\n",
      "\n",
      "Diagnostics with sorry:\n",
      "[{'fullRange': {'end': {'character': 24, 'line': 0},\n",
      "                'start': {'character': 8, 'line': 0}},\n",
      "  'message': \"declaration uses 'sorry'\",\n",
      "  'range': {'end': {'character': 24, 'line': 0},\n",
      "            'start': {'character': 8, 'line': 0}},\n",
      "  'severity': 2,\n",
      "  'source': 'Lean 4'}]\n"
     ]
    }
   ],
   "source": [
    "# Start with an incomplete theorem, update the file contents (only in LSP not on disk)\n",
    "theorem = \"\"\"theorem my_first_proof (n : Nat) : n = n := by\n",
    "  sorry\"\"\"\n",
    "sfc.update_file([lc.DocumentContentChange(text=theorem, start=(0, 0), end=(2, 0))])\n",
    "\n",
    "# Check what we need to prove (cursor after 'by' on line 1, column 2)\n",
    "goal = sfc.get_goal(1, 2)\n",
    "print(\"Current goal:\")\n",
    "print(goal[\"goals\"][0])\n",
    "\n",
    "# Complete the proof with 'rfl'\n",
    "theorem_complete = \"\"\"theorem my_first_proof (n : Nat) : n = n := by\n",
    "  rfl\"\"\"\n",
    "sfc.update_file(\n",
    "    [lc.DocumentContentChange(text=theorem_complete, start=(0, 0), end=(1, 7))]\n",
    ")\n",
    "\n",
    "# Check for errors\n",
    "diagnostics = sfc.get_diagnostics()\n",
    "print(\"\\nNo diagnostics after completing proof:\")\n",
    "pprint(diagnostics)\n",
    "\n",
    "# Try a more interesting example - incomplete proof\n",
    "theorem2 = \"\"\"theorem add_comm_partial (a b : Nat) : a + b = b + a := by\n",
    "  sorry\"\"\"\n",
    "sfc.update_file([lc.DocumentContentChange(text=theorem2, start=(0, 0), end=(1, 5))])\n",
    "\n",
    "goal2 = sfc.get_goal(1, 2)\n",
    "print(\"\\nMore interesting goal (commutativity of addition):\")\n",
    "print(goal2[\"goals\"][0])\n",
    "\n",
    "# Diagnostics now include a warning\n",
    "diagnostics2 = sfc.get_diagnostics()\n",
    "print(\"\\nDiagnostics with sorry:\")\n",
    "pprint(diagnostics2)"
   ]
  },
  {
   "cell_type": "code",
   "execution_count": 6,
   "metadata": {},
   "outputs": [],
   "source": [
    "# Always close the client when you're done.\n",
    "client.close()"
   ]
  },
  {
   "cell_type": "markdown",
   "metadata": {
    "id": "hOPWQet6iUvx"
   },
   "source": [
    "### Next Steps\n",
    "\n",
    "Check out the [documentation](https://leanclient.readthedocs.io/en/latest/) for more information on leanclient!"
   ]
  }
 ],
 "metadata": {
  "colab": {
   "provenance": []
  },
  "kernelspec": {
   "display_name": "leanclient (3.10.16)",
   "language": "python",
   "name": "python3"
  },
  "language_info": {
   "codemirror_mode": {
    "name": "ipython",
    "version": 3
   },
   "file_extension": ".py",
   "mimetype": "text/x-python",
   "name": "python",
   "nbconvert_exporter": "python",
   "pygments_lexer": "ipython3",
   "version": "3.11.12"
  }
 },
 "nbformat": 4,
 "nbformat_minor": 4
}
