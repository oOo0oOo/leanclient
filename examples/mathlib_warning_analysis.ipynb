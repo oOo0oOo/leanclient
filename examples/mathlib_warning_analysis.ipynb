{
 "cells": [
  {
   "cell_type": "markdown",
   "metadata": {
    "id": "IWlQQcC-rvBs"
   },
   "source": [
    "### Analyse Warnings in Mathlib/Geometry/"
   ]
  },
  {
   "cell_type": "code",
   "execution_count": 1,
   "metadata": {
    "id": "rBHyfKpYsipG"
   },
   "outputs": [],
   "source": [
    "PROJECT_NAME = \"LeanProject\""
   ]
  },
  {
   "cell_type": "code",
   "execution_count": 2,
   "metadata": {
    "colab": {
     "base_uri": "https://localhost:8080/"
    },
    "collapsed": true,
    "id": "4oYR0BAPWBs1",
    "outputId": "34a5ed66-7cf5-4681-e7ca-5aa6e855022f"
   },
   "outputs": [],
   "source": [
    "# Setup a Lean environment in LeanProject/ manually:\n",
    "\n",
    "# lake +leanprover-community/mathlib4:lean-toolchain new LeanProject math\n",
    "# cd LeanProject\n",
    "# lake update"
   ]
  },
  {
   "cell_type": "code",
   "execution_count": null,
   "metadata": {
    "colab": {
     "base_uri": "https://localhost:8080/"
    },
    "collapsed": true,
    "id": "LzCRGnimkjiO",
    "outputId": "57b6c525-4e29-46f0-c19d-3ca8ee3c9b1f"
   },
   "outputs": [],
   "source": [
    "# Install leanclient\n",
    "!pip install leanclient"
   ]
  },
  {
   "cell_type": "code",
   "execution_count": 2,
   "metadata": {},
   "outputs": [
    {
     "name": "stdout",
     "output_type": "stream",
     "text": [
      "Found 88 lean files in .lake/packages/mathlib/Mathlib/Geometry\n"
     ]
    }
   ],
   "source": [
    "import leanclient as lc\n",
    "import os\n",
    "\n",
    "ANALYSIS_FOLDER = \".lake/packages/mathlib/Mathlib/Geometry\"\n",
    "\n",
    "# Find all .lean files in the folder and its subfolders\n",
    "lean_files = []\n",
    "for root, dirs, files in os.walk(f\"{PROJECT_NAME}/{ANALYSIS_FOLDER}\"):\n",
    "    root_relative = root[len(f\"{PROJECT_NAME}/\") :]\n",
    "    for file in files:\n",
    "        if file.endswith(\".lean\"):\n",
    "            lean_files.append(os.path.join(root_relative, file))\n",
    "\n",
    "print(f\"Found {len(lean_files)} lean files in {ANALYSIS_FOLDER}\")"
   ]
  },
  {
   "cell_type": "code",
   "execution_count": null,
   "metadata": {},
   "outputs": [
    {
     "name": "stdout",
     "output_type": "stream",
     "text": [
      ".lake/packages/mathlib/Mathlib/Geometry/Manifold/ConformalGroupoid.lean: []\n",
      ".lake/packages/mathlib/Mathlib/Geometry/Manifold/Metrizable.lean: []\n",
      ".lake/packages/mathlib/Mathlib/Geometry/Manifold/WhitneyEmbedding.lean: []\n",
      ".lake/packages/mathlib/Mathlib/Geometry/RingedSpace/Basic.lean: []\n",
      ".lake/packages/mathlib/Mathlib/Geometry/Manifold/Diffeomorph.lean: []\n",
      ".lake/packages/mathlib/Mathlib/Geometry/Manifold/ContMDiffMFDeriv.lean: []\n",
      ".lake/packages/mathlib/Mathlib/Geometry/Manifold/LocalDiffeomorph.lean: []\n",
      ".lake/packages/mathlib/Mathlib/Geometry/RingedSpace/PresheafedSpace.lean: []\n",
      ".lake/packages/mathlib/Mathlib/Geometry/Manifold/ChartedSpace.lean: []\n",
      ".lake/packages/mathlib/Mathlib/Geometry/Manifold/BumpFunction.lean: []\n",
      "Warning: Timed out waiting for diagnostics (finish processing) after 10.0s for .lake/packages/mathlib/Mathlib/Geometry/RingedSpace/PresheafedSpace/Gluing.lean.\n",
      ".lake/packages/mathlib/Mathlib/Geometry/Manifold/LocalInvariantProperties.lean: []\n",
      ".lake/packages/mathlib/Mathlib/Geometry/Manifold/PoincareConjecture.lean: []\n",
      ".lake/packages/mathlib/Mathlib/Geometry/RingedSpace/Stalks.lean: []\n",
      ".lake/packages/mathlib/Mathlib/Geometry/Manifold/PartitionOfUnity.lean: []\n",
      "Warning: Timed out waiting for diagnostics (waitForDiagnostics) after 10.0s for .lake/packages/mathlib/Mathlib/Geometry/RingedSpace/PresheafedSpace/Gluing.lean.\n",
      ".lake/packages/mathlib/Mathlib/Geometry/RingedSpace/PresheafedSpace/Gluing.lean: []\n",
      ".lake/packages/mathlib/Mathlib/Geometry/Manifold/Complex.lean: []\n",
      ".lake/packages/mathlib/Mathlib/Geometry/RingedSpace/SheafedSpace.lean: []\n",
      ".lake/packages/mathlib/Mathlib/Geometry/Manifold/AnalyticManifold.lean: []\n",
      ".lake/packages/mathlib/Mathlib/Geometry/RingedSpace/LocallyRingedSpace.lean: []\n",
      ".lake/packages/mathlib/Mathlib/Geometry/Manifold/VectorField.lean: []\n",
      ".lake/packages/mathlib/Mathlib/Geometry/Manifold/DerivationBundle.lean: []\n",
      ".lake/packages/mathlib/Mathlib/Geometry/Manifold/ContMDiffMap.lean: []\n",
      ".lake/packages/mathlib/Mathlib/Geometry/Manifold/Algebra/Monoid.lean: []\n",
      ".lake/packages/mathlib/Mathlib/Geometry/RingedSpace/PresheafedSpace/HasColimits.lean: []\n",
      ".lake/packages/mathlib/Mathlib/Geometry/Manifold/Algebra/SmoothFunctions.lean: []\n",
      ".lake/packages/mathlib/Mathlib/Geometry/RingedSpace/LocallyRingedSpace/HasColimits.lean: []\n",
      ".lake/packages/mathlib/Mathlib/Geometry/Manifold/Algebra/LieGroup.lean: []\n",
      ".lake/packages/mathlib/Mathlib/Geometry/Manifold/Algebra/Structures.lean: []\n",
      ".lake/packages/mathlib/Mathlib/Geometry/RingedSpace/LocallyRingedSpace/ResidueField.lean: []\n",
      ".lake/packages/mathlib/Mathlib/Geometry/Group/Growth/QuotientInter.lean: []\n",
      ".lake/packages/mathlib/Mathlib/Geometry/Group/Growth/LinearLowerBound.lean: []\n",
      ".lake/packages/mathlib/Mathlib/Geometry/Manifold/IsManifold/ExtChartAt.lean: []\n",
      ".lake/packages/mathlib/Mathlib/Geometry/Manifold/IsManifold/Basic.lean: []\n",
      ".lake/packages/mathlib/Mathlib/Geometry/RingedSpace/OpenImmersion.lean: []\n",
      ".lake/packages/mathlib/Mathlib/Geometry/Manifold/Algebra/LeftInvariantDerivation.lean: []\n",
      ".lake/packages/mathlib/Mathlib/Geometry/Manifold/IsManifold/InteriorBoundary.lean: []\n",
      ".lake/packages/mathlib/Mathlib/Geometry/Manifold/VectorBundle/Tangent.lean: []\n",
      ".lake/packages/mathlib/Mathlib/Geometry/Manifold/ContMDiff/Basic.lean: []\n",
      ".lake/packages/mathlib/Mathlib/Geometry/Manifold/VectorBundle/FiberwiseLinear.lean: []\n",
      ".lake/packages/mathlib/Mathlib/Geometry/Manifold/VectorBundle/Hom.lean: []\n",
      ".lake/packages/mathlib/Mathlib/Geometry/Manifold/MFDeriv/Defs.lean: []\n",
      ".lake/packages/mathlib/Mathlib/Geometry/Manifold/VectorBundle/Pullback.lean: []\n",
      ".lake/packages/mathlib/Mathlib/Geometry/Manifold/MFDeriv/Tangent.lean: []\n",
      ".lake/packages/mathlib/Mathlib/Geometry/Manifold/VectorBundle/MDifferentiable.lean: []\n",
      ".lake/packages/mathlib/Mathlib/Geometry/Manifold/MFDeriv/Atlas.lean: []\n",
      ".lake/packages/mathlib/Mathlib/Geometry/Manifold/MFDeriv/UniqueDifferential.lean: []\n",
      ".lake/packages/mathlib/Mathlib/Geometry/Manifold/VectorBundle/Basic.lean: []\n",
      ".lake/packages/mathlib/Mathlib/Geometry/Manifold/ContMDiff/NormedSpace.lean: []\n",
      ".lake/packages/mathlib/Mathlib/Geometry/Manifold/VectorBundle/SmoothSection.lean: []\n",
      ".lake/packages/mathlib/Mathlib/Geometry/Manifold/Sheaf/LocallyRingedSpace.lean: []\n",
      ".lake/packages/mathlib/Mathlib/Geometry/Manifold/MFDeriv/NormedSpace.lean: []\n",
      ".lake/packages/mathlib/Mathlib/Geometry/Manifold/MFDeriv/Basic.lean: []\n",
      ".lake/packages/mathlib/Mathlib/Geometry/Manifold/Sheaf/Smooth.lean: []\n",
      ".lake/packages/mathlib/Mathlib/Geometry/Manifold/Instances/Sphere.lean: []\n",
      ".lake/packages/mathlib/Mathlib/Geometry/Manifold/IntegralCurve/Basic.lean: []\n",
      ".lake/packages/mathlib/Mathlib/Geometry/Euclidean/Circumcenter.lean: []\n",
      ".lake/packages/mathlib/Mathlib/Geometry/Manifold/IntegralCurve/Transform.lean: []\n",
      ".lake/packages/mathlib/Mathlib/Geometry/Euclidean/PerpBisector.lean: []\n",
      ".lake/packages/mathlib/Mathlib/Geometry/Manifold/MFDeriv/SpecificFunctions.lean: []\n",
      ".lake/packages/mathlib/Mathlib/Geometry/Manifold/Instances/Real.lean: []\n",
      ".lake/packages/mathlib/Mathlib/Geometry/Manifold/IntegralCurve/ExistUnique.lean: []\n",
      ".lake/packages/mathlib/Mathlib/Geometry/Manifold/MFDeriv/FDeriv.lean: []\n",
      ".lake/packages/mathlib/Mathlib/Geometry/Manifold/Instances/UnitsOfNormedAlgebra.lean: []\n",
      ".lake/packages/mathlib/Mathlib/Geometry/Manifold/Sheaf/Basic.lean: []\n",
      ".lake/packages/mathlib/Mathlib/Geometry/Euclidean/Triangle.lean: []\n",
      ".lake/packages/mathlib/Mathlib/Geometry/Manifold/IntegralCurve/UniformTime.lean: []\n",
      ".lake/packages/mathlib/Mathlib/Geometry/Manifold/ContMDiff/Defs.lean: []\n",
      ".lake/packages/mathlib/Mathlib/Geometry/Euclidean/Angle/Unoriented/Affine.lean: []\n",
      ".lake/packages/mathlib/Mathlib/Geometry/Manifold/ContMDiff/Atlas.lean: []\n",
      ".lake/packages/mathlib/Mathlib/Geometry/Euclidean/Basic.lean: []\n",
      ".lake/packages/mathlib/Mathlib/Geometry/Euclidean/Angle/Unoriented/Basic.lean: []\n",
      ".lake/packages/mathlib/Mathlib/Geometry/Euclidean/Angle/Unoriented/Conformal.lean: []\n",
      ".lake/packages/mathlib/Mathlib/Geometry/Euclidean/Angle/Oriented/Affine.lean: []\n",
      ".lake/packages/mathlib/Mathlib/Geometry/Euclidean/Angle/Unoriented/CrossProduct.lean: []\n",
      ".lake/packages/mathlib/Mathlib/Geometry/Manifold/ContMDiff/Constructions.lean: []\n",
      ".lake/packages/mathlib/Mathlib/Geometry/Euclidean/Sphere/SecondInter.lean: []\n",
      ".lake/packages/mathlib/Mathlib/Geometry/Euclidean/MongePoint.lean: []\n",
      ".lake/packages/mathlib/Mathlib/Geometry/Euclidean/Angle/Unoriented/RightAngle.lean: []\n",
      ".lake/packages/mathlib/Mathlib/Geometry/Euclidean/Inversion/Basic.lean: []\n",
      ".lake/packages/mathlib/Mathlib/Geometry/Euclidean/Inversion/ImageHyperplane.lean: []\n",
      ".lake/packages/mathlib/Mathlib/Geometry/Euclidean/Angle/Sphere.lean: []\n",
      ".lake/packages/mathlib/Mathlib/Geometry/Euclidean/Inversion/Calculus.lean: []\n",
      ".lake/packages/mathlib/Mathlib/Geometry/Euclidean/Angle/Oriented/Basic.lean: []\n",
      ".lake/packages/mathlib/Mathlib/Geometry/Euclidean/Angle/Oriented/Rotation.lean: []\n",
      ".lake/packages/mathlib/Mathlib/Geometry/Euclidean/Angle/Oriented/RightAngle.lean: []\n",
      ".lake/packages/mathlib/Mathlib/Geometry/Euclidean/Sphere/Ptolemy.lean: []\n",
      ".lake/packages/mathlib/Mathlib/Geometry/Euclidean/Sphere/Basic.lean: []\n",
      ".lake/packages/mathlib/Mathlib/Geometry/Euclidean/Sphere/Power.lean: []\n",
      "Extracted 0 diagnostic messages\n"
     ]
    },
    {
     "ename": "",
     "evalue": "",
     "output_type": "error",
     "traceback": [
      "\u001b[1;31mThe Kernel crashed while executing code in the current cell or a previous cell. \n",
      "\u001b[1;31mPlease review the code in the cell(s) to identify a possible cause of the failure. \n",
      "\u001b[1;31mClick <a href='https://aka.ms/vscodeJupyterKernelCrash'>here</a> for more info. \n",
      "\u001b[1;31mView Jupyter <a href='command:jupyter.viewOutput'>log</a> for further details."
     ]
    }
   ],
   "source": [
    "# Extract all diagnostics from the lean files\n",
    "def extract_diagnostics(sfc: lc.SingleFileClient):\n",
    "    diags = sfc.get_diagnostics(timeout=20)\n",
    "    print(f\"{sfc.file_path}: {diags}\")\n",
    "    return diags\n",
    "\n",
    "pool = lc.LeanClientPool(f\"{PROJECT_NAME}\", num_workers=4)\n",
    "with pool:\n",
    "    diagnostics = pool.map(extract_diagnostics, lean_files)\n",
    "\n",
    "print(f\"Extracted {sum(len(d) for d in diagnostics)} diagnostic messages\")"
   ]
  }
 ],
 "metadata": {
  "colab": {
   "provenance": []
  },
  "kernelspec": {
   "display_name": "leanclient-_pDCu_k2-py3.12",
   "language": "python",
   "name": "python3"
  },
  "language_info": {
   "codemirror_mode": {
    "name": "ipython",
    "version": 3
   },
   "file_extension": ".py",
   "mimetype": "text/x-python",
   "name": "python",
   "nbconvert_exporter": "python",
   "pygments_lexer": "ipython3",
   "version": "3.12.3"
  }
 },
 "nbformat": 4,
 "nbformat_minor": 0
}
